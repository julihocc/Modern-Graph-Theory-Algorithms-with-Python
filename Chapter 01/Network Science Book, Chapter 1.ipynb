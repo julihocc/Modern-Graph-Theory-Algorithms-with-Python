{
 "cells": [
  {
   "cell_type": "markdown",
   "id": "86e3308e",
   "metadata": {},
   "source": [
    "Script 1-1: igraph example of hackathon network"
   ]
  },
  {
   "cell_type": "code",
   "execution_count": 1,
   "id": "285b1f90",
   "metadata": {},
   "outputs": [
    {
     "name": "stdout",
     "output_type": "stream",
     "text": [
      "Requirement already satisfied: igraph in f:\\jcc30986@gmail.com\\modern-graph-theory-algorithms-with-python.worktrees\\dev\\.venv\\lib\\site-packages (0.11.8)\n",
      "Requirement already satisfied: texttable>=1.6.2 in f:\\jcc30986@gmail.com\\modern-graph-theory-algorithms-with-python.worktrees\\dev\\.venv\\lib\\site-packages (from igraph) (1.7.0)\n",
      "Requirement already satisfied: pycairo in f:\\jcc30986@gmail.com\\modern-graph-theory-algorithms-with-python.worktrees\\dev\\.venv\\lib\\site-packages (1.27.0)\n"
     ]
    }
   ],
   "source": [
    "#install igraph and pycairo\n",
    "!pip install igraph\n",
    "!pip install pycairo"
   ]
  },
  {
   "cell_type": "code",
   "execution_count": 2,
   "id": "492a016a",
   "metadata": {},
   "outputs": [],
   "source": [
    "#import igraph\n",
    "import igraph as ig\n",
    "from igraph import Graph"
   ]
  },
  {
   "cell_type": "code",
   "execution_count": 3,
   "id": "99ba5315",
   "metadata": {},
   "outputs": [],
   "source": [
    "#create hackathon network\n",
    "g_colleagues=ig.Graph(edges=[(0,1),(0,2),(1,2)],n=3,directed=False)"
   ]
  },
  {
   "cell_type": "code",
   "execution_count": 4,
   "id": "05345748",
   "metadata": {},
   "outputs": [
    {
     "data": {
      "image/svg+xml": [
       "<?xml version=\"1.0\" encoding=\"UTF-8\"?>\n",
       "<svg xmlns=\"http://www.w3.org/2000/svg\" xmlns:xlink=\"http://www.w3.org/1999/xlink\" width=\"200\" height=\"200\" viewBox=\"0 0 200 200\">\n",
       "<defs>\n",
       "<g>\n",
       "<g id=\"glyph-0-0\">\n",
       "<path d=\"M 1.039062 0 L 1.039062 -10.023438 L 3.035156 -10.023438 L 5.40625 -2.925781 C 5.625 -2.265625 5.785156 -1.769531 5.886719 -1.441406 C 6 -1.808594 6.175781 -2.34375 6.417969 -3.046875 L 8.820312 -10.023438 L 10.601562 -10.023438 L 10.601562 0 L 9.324219 0 L 9.324219 -8.386719 L 6.414062 0 L 5.214844 0 L 2.316406 -8.53125 L 2.316406 0 Z M 1.039062 0 \"/>\n",
       "</g>\n",
       "<g id=\"glyph-0-1\">\n",
       "<path d=\"M -0.0195312 0 L 3.828125 -10.023438 L 5.257812 -10.023438 L 9.359375 0 L 7.847656 0 L 6.679688 -3.035156 L 2.488281 -3.035156 L 1.386719 0 L -0.0195312 0 M 2.871094 -4.117188 L 6.269531 -4.117188 L 5.222656 -6.890625 C 4.902344 -7.734375 4.667969 -8.425781 4.511719 -8.96875 C 4.382812 -8.328125 4.203125 -7.6875 3.972656 -7.054688 Z M 2.871094 -4.117188 \"/>\n",
       "</g>\n",
       "<g id=\"glyph-0-2\">\n",
       "<path d=\"M 5.769531 -3.929688 L 5.769531 -5.105469 L 10.015625 -5.113281 L 10.015625 -1.394531 C 9.363281 -0.875 8.691406 -0.484375 8 -0.222656 C 7.304688 0.0390625 6.59375 0.171875 5.867188 0.171875 C 4.882812 0.171875 3.988281 -0.0390625 3.183594 -0.460938 C 2.378906 -0.882812 1.769531 -1.492188 1.359375 -2.289062 C 0.949219 -3.085938 0.746094 -3.976562 0.746094 -4.960938 C 0.746094 -5.9375 0.949219 -6.847656 1.355469 -7.695312 C 1.765625 -8.539062 2.351562 -9.167969 3.117188 -9.578125 C 3.882812 -9.988281 4.765625 -10.191406 5.761719 -10.191406 C 6.488281 -10.191406 7.140625 -10.074219 7.726562 -9.839844 C 8.3125 -9.605469 8.773438 -9.277344 9.105469 -8.859375 C 9.4375 -8.441406 9.691406 -7.894531 9.863281 -7.21875 L 8.667969 -6.890625 C 8.515625 -7.402344 8.332031 -7.800781 8.109375 -8.09375 C 7.882812 -8.386719 7.566406 -8.617188 7.148438 -8.792969 C 6.734375 -8.96875 6.273438 -9.058594 5.769531 -9.058594 C 5.164062 -9.058594 4.640625 -8.964844 4.195312 -8.78125 C 3.753906 -8.597656 3.398438 -8.351562 3.128906 -8.054688 C 2.855469 -7.75 2.644531 -7.421875 2.496094 -7.0625 C 2.238281 -6.441406 2.113281 -5.769531 2.113281 -5.046875 C 2.113281 -4.152344 2.265625 -3.40625 2.574219 -2.804688 C 2.882812 -2.203125 3.328125 -1.753906 3.917969 -1.460938 C 4.503906 -1.171875 5.128906 -1.023438 5.789062 -1.023438 C 6.363281 -1.023438 6.925781 -1.136719 7.472656 -1.355469 C 8.019531 -1.578125 8.433594 -1.8125 8.714844 -2.0625 L 8.714844 -3.929688 Z M 5.769531 -3.929688 \"/>\n",
       "</g>\n",
       "</g>\n",
       "</defs>\n",
       "<rect x=\"-20\" y=\"-20\" width=\"240\" height=\"240\" fill=\"rgb(100%, 100%, 100%)\" fill-opacity=\"1\"/>\n",
       "<path fill=\"none\" stroke-width=\"1\" stroke-linecap=\"butt\" stroke-linejoin=\"miter\" stroke=\"rgb(26.666667%, 26.666667%, 26.666667%)\" stroke-opacity=\"1\" stroke-miterlimit=\"10\" d=\"M 180 180 L 20 169.265625 \"/>\n",
       "<path fill=\"none\" stroke-width=\"1\" stroke-linecap=\"butt\" stroke-linejoin=\"miter\" stroke=\"rgb(26.666667%, 26.666667%, 26.666667%)\" stroke-opacity=\"1\" stroke-miterlimit=\"10\" d=\"M 180 180 L 108.332031 20 \"/>\n",
       "<path fill=\"none\" stroke-width=\"1\" stroke-linecap=\"butt\" stroke-linejoin=\"miter\" stroke=\"rgb(26.666667%, 26.666667%, 26.666667%)\" stroke-opacity=\"1\" stroke-miterlimit=\"10\" d=\"M 20 169.265625 L 108.332031 20 \"/>\n",
       "<path fill-rule=\"nonzero\" fill=\"rgb(100%, 0%, 0%)\" fill-opacity=\"1\" stroke-width=\"1\" stroke-linecap=\"butt\" stroke-linejoin=\"miter\" stroke=\"rgb(0%, 0%, 0%)\" stroke-opacity=\"1\" stroke-miterlimit=\"10\" d=\"M 200 180 C 200 191.046875 191.046875 200 180 200 C 168.953125 200 160 191.046875 160 180 C 160 168.953125 168.953125 160 180 160 C 191.046875 160 200 168.953125 200 180 \"/>\n",
       "<path fill-rule=\"nonzero\" fill=\"rgb(100%, 0%, 0%)\" fill-opacity=\"1\" stroke-width=\"1\" stroke-linecap=\"butt\" stroke-linejoin=\"miter\" stroke=\"rgb(0%, 0%, 0%)\" stroke-opacity=\"1\" stroke-miterlimit=\"10\" d=\"M 40 169.265625 C 40 180.3125 31.046875 189.265625 20 189.265625 C 8.953125 189.265625 0 180.3125 0 169.265625 C 0 158.21875 8.953125 149.265625 20 149.265625 C 31.046875 149.265625 40 158.21875 40 169.265625 \"/>\n",
       "<path fill-rule=\"nonzero\" fill=\"rgb(100%, 0%, 0%)\" fill-opacity=\"1\" stroke-width=\"1\" stroke-linecap=\"butt\" stroke-linejoin=\"miter\" stroke=\"rgb(0%, 0%, 0%)\" stroke-opacity=\"1\" stroke-miterlimit=\"10\" d=\"M 128.332031 20 C 128.332031 31.046875 119.375 40 108.332031 40 C 97.285156 40 88.332031 31.046875 88.332031 20 C 88.332031 8.953125 97.285156 0 108.332031 0 C 119.375 0 128.332031 8.953125 128.332031 20 \"/>\n",
       "<g fill=\"rgb(0%, 0%, 0%)\" fill-opacity=\"1\">\n",
       "<use xlink:href=\"#glyph-0-0\" x=\"174.179688\" y=\"186.992188\"/>\n",
       "</g>\n",
       "<g fill=\"rgb(0%, 0%, 0%)\" fill-opacity=\"1\">\n",
       "<use xlink:href=\"#glyph-0-1\" x=\"15.332031\" y=\"176.257812\"/>\n",
       "</g>\n",
       "<g fill=\"rgb(0%, 0%, 0%)\" fill-opacity=\"1\">\n",
       "<use xlink:href=\"#glyph-0-2\" x=\"102.949219\" y=\"27.078125\"/>\n",
       "</g>\n",
       "</svg>\n"
      ],
      "text/plain": [
       "<igraph.drawing.cairo.plot.CairoPlot at 0x2895b7cbbc0>"
      ]
     },
     "execution_count": 4,
     "metadata": {
      "image/svg+xml": {
       "isolated": true
      }
     },
     "output_type": "execute_result"
    }
   ],
   "source": [
    "#plot the hackathon network\n",
    "ig.plot(g_colleagues,bbox=(200,200),vertex_size=40,vertex_label=[\"M\",\"A\",\"G\"])"
   ]
  },
  {
   "cell_type": "markdown",
   "id": "f1e410bf",
   "metadata": {},
   "source": [
    "Script 1-2: NetworkX example of hackathon network"
   ]
  },
  {
   "cell_type": "code",
   "execution_count": 5,
   "id": "7204e15b",
   "metadata": {},
   "outputs": [
    {
     "name": "stdout",
     "output_type": "stream",
     "text": [
      "Requirement already satisfied: NetworkX in f:\\jcc30986@gmail.com\\modern-graph-theory-algorithms-with-python.worktrees\\dev\\.venv\\lib\\site-packages (3.4.2)\n"
     ]
    }
   ],
   "source": [
    "#install NetworkX\n",
    "!pip install NetworkX"
   ]
  },
  {
   "cell_type": "code",
   "execution_count": 6,
   "id": "5d6a8529",
   "metadata": {},
   "outputs": [],
   "source": [
    "#import NetworkX\n",
    "import networkx as nx"
   ]
  },
  {
   "cell_type": "code",
   "execution_count": 7,
   "id": "b50978da",
   "metadata": {},
   "outputs": [],
   "source": [
    "#create hackathon network\n",
    "G = nx.Graph()\n",
    "G.add_nodes_from([1, 3])\n",
    "G.add_edges_from([(1, 2), (1, 3), (2, 3)])"
   ]
  },
  {
   "cell_type": "code",
   "execution_count": 8,
   "id": "eb8ce768",
   "metadata": {},
   "outputs": [
    {
     "data": {
      "image/png": "[encoded data removed]",
      "text/plain": [
       "<Figure size 640x480 with 1 Axes>"
      ]
     },
     "metadata": {},
     "output_type": "display_data"
    }
   ],
   "source": [
    "#plot the hackathon network\n",
    "import matplotlib.pyplot as plt\n",
    "G.nodes[1]['initial'] = 'M'\n",
    "G.nodes[2]['initial'] = 'A'\n",
    "G.nodes[3]['initial'] = 'G'\n",
    "labels = nx.get_node_attributes(G, 'initial')\n",
    "nx.draw(G, labels=labels, font_weight='bold')"
   ]
  },
  {
   "cell_type": "code",
   "execution_count": null,
   "id": "49c41f2b",
   "metadata": {},
   "outputs": [],
   "source": []
  }
 ],
 "metadata": {
  "kernelspec": {
   "display_name": ".venv",
   "language": "python",
   "name": "python3"
  },
  "language_info": {
   "codemirror_mode": {
    "name": "ipython",
    "version": 3
   },
   "file_extension": ".py",
   "mimetype": "text/x-python",
   "name": "python",
   "nbconvert_exporter": "python",
   "pygments_lexer": "ipython3",
   "version": "3.12.7"
  }
 },
 "nbformat": 4,
 "nbformat_minor": 5
}
